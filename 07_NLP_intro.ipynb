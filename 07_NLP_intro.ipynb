{
 "cells": [
  {
   "cell_type": "code",
   "execution_count": 1,
   "id": "2f9441af",
   "metadata": {},
   "outputs": [],
   "source": [
    "import numpy as np\n",
    "import pandas as pd\n",
    "import matplotlib.pyplot as plt\n",
    "import mglearn"
   ]
  },
  {
   "cell_type": "markdown",
   "id": "5a1a4b8b",
   "metadata": {},
   "source": [
    "문자열로 된 데이터 종류\n",
    "- 범주형 데이터 (ex. 색상, 성별 etc.)\n",
    "- 범주에 연결할 수 있는 임의의 문자열 (ex. 다홍색(비슷한 종류) >>> 빨강, 검점색(오타) >>> 검정)\n",
    "- 구조화된 문자열 데이터 (ex. 도로명주소)\n",
    "- 말 그대로 문자열 (ex. .txt 파일)"
   ]
  },
  {
   "cell_type": "code",
   "execution_count": 2,
   "id": "558e374c",
   "metadata": {},
   "outputs": [
    {
     "name": "stdout",
     "output_type": "stream",
     "text": [
      "폴더 PATH의 목록입니다.\n",
      "볼륨 일련 번호가 000000AE 0639:BF7F입니다.\n",
      "C:\\USERS\\RKSLA\\DOCUMENTS\\PYTHON\\BASIC\\ML\\PPB\\DATA\\ACLIMDB\n",
      "├─test\n",
      "│  ├─neg\n",
      "│  └─pos\n",
      "└─train\n",
      "    ├─neg\n",
      "    └─pos\n"
     ]
    }
   ],
   "source": [
    "!tree data/aclImdb"
   ]
  },
  {
   "cell_type": "code",
   "execution_count": 3,
   "id": "cf385011",
   "metadata": {},
   "outputs": [
    {
     "name": "stdout",
     "output_type": "stream",
     "text": [
      "TYPEOF text_train:  <class 'list'>\n",
      "SIZEOF text_train:  25000\n",
      "text_train[6]: \n",
      "  b\"This movie has a special way of telling the story, at first i found it rather odd as it jumped through time and I had no idea whats happening.<br /><br />Anyway the story line was although simple, but still very real and touching. You met someone the first time, you fell in love completely, but broke up at last and promoted a deadly agony. Who hasn't go through this? but we will never forget this kind of pain in our life. <br /><br />I would say i am rather touched as two actor has shown great performance in showing the love between the characters. I just wish that the story could be a happy ending.\"\n"
     ]
    }
   ],
   "source": [
    "from sklearn.datasets import load_files\n",
    "\n",
    "reviews_train = load_files(\"data/aclImdb/train/\")\n",
    "text_train, y_train = reviews_train.data, reviews_train.target\n",
    "\n",
    "print(\"TYPEOF text_train: \", type(text_train))\n",
    "print(\"SIZEOF text_train: \", len(text_train))\n",
    "print(\"text_train[6]: \\n \", text_train[6])"
   ]
  },
  {
   "cell_type": "code",
   "execution_count": 4,
   "id": "1ad0a176",
   "metadata": {},
   "outputs": [],
   "source": [
    "text_train = [doc.replace(b\"<br />\", b\"\") for doc in text_train]"
   ]
  },
  {
   "cell_type": "code",
   "execution_count": 5,
   "id": "415f0d3a",
   "metadata": {},
   "outputs": [
    {
     "name": "stdout",
     "output_type": "stream",
     "text": [
      "클래스별 샘플 수 (TRAIN):  [12500 12500]\n"
     ]
    }
   ],
   "source": [
    "print(\"클래스별 샘플 수 (TRAIN): \", np.bincount(y_train))"
   ]
  },
  {
   "cell_type": "code",
   "execution_count": 6,
   "id": "853ef4b8",
   "metadata": {},
   "outputs": [
    {
     "name": "stdout",
     "output_type": "stream",
     "text": [
      "테스트 데이터의 문서 수:  25000\n",
      "클래스별 샘플 수 (TEST): \n"
     ]
    }
   ],
   "source": [
    "reviews_test = load_files(\"data/aclImdb/test/\")\n",
    "text_test, y_test = reviews_test.data, reviews_test.target\n",
    "\n",
    "print(\"테스트 데이터의 문서 수: \", len(text_test))\n",
    "print(\"클래스별 샘플 수 (TEST): \")"
   ]
  },
  {
   "cell_type": "code",
   "execution_count": 7,
   "id": "e5082cdb",
   "metadata": {},
   "outputs": [],
   "source": [
    "text_test = [doc.replace(b\"<br />\", b\"\") for doc in text_test]"
   ]
  },
  {
   "cell_type": "markdown",
   "id": "0f9020e3",
   "metadata": {},
   "source": [
    "# BOW (Bag of Words)"
   ]
  },
  {
   "cell_type": "markdown",
   "id": "29e349ce",
   "metadata": {},
   "source": [
    "과정\n",
    "1. 토큰화: 각 문서를 문서에 포함된 단어(토큰)로 나눈다. 이 때 기준은 띄어쓰기, 점 따위로 한다\n",
    "2. 어휘 사전 구축: 모든 문서에 나타난 모든 단어의 어휘를 모으고 번호를 매긴다. 순서는 알파벳 순으로 한다\n",
    "3. 인코딩: 어휘 사전의 단어가 문서마다 몇 번이나 나타나는지를 센다\n"
   ]
  },
  {
   "cell_type": "code",
   "execution_count": 8,
   "id": "c858a846",
   "metadata": {},
   "outputs": [],
   "source": [
    "bards_words = [\n",
    "    \"the fool doth think he is wise, \", \n",
    "    \"but the wise man knows himself to be a fool\"\n",
    "]"
   ]
  },
  {
   "cell_type": "code",
   "execution_count": 9,
   "id": "ce21e263",
   "metadata": {},
   "outputs": [
    {
     "data": {
      "text/plain": [
       "CountVectorizer()"
      ]
     },
     "execution_count": 9,
     "metadata": {},
     "output_type": "execute_result"
    }
   ],
   "source": [
    "\"\"\"\n",
    "    feature_extraction.text.CountVectorizer: sklearn의 BOW 변환 도구\n",
    "    \n",
    "    상세 동작\n",
    "        1. vect.fit(문자열) 결과는 다음과 같다\n",
    "            1.1 전달한 문자열을 단어 경계 단위로 나눈다. 이 때 모든 단어는 소문자로 바꾼다\n",
    "            1.2 추출한 단어 목록의 unique 목록을 만들어 알파벳 순으로 정렬한다\n",
    "            \n",
    "        2. vect.transform(문자열) 의 결과는 다음과 같다\n",
    "            2.1 문자열을 희소 행렬로 바꾼다\n",
    "            2.2 ndarray일 때 값은 전달한 문자열에 해당 위치 단어가 몇 회 출현하는지에 대한 횟수다\n",
    "\"\"\"\n",
    "\n",
    "from sklearn.feature_extraction.text import CountVectorizer\n",
    "\n",
    "vect = CountVectorizer()\n",
    "vect.fit(bards_words)"
   ]
  },
  {
   "cell_type": "code",
   "execution_count": 10,
   "id": "1d27c662",
   "metadata": {},
   "outputs": [
    {
     "name": "stdout",
     "output_type": "stream",
     "text": [
      "어휘 사전의 크기:  13\n",
      "어휘 사전의 내용: \n",
      " {'the': 9, 'fool': 3, 'doth': 2, 'think': 10, 'he': 4, 'is': 6, 'wise': 12, 'but': 1, 'man': 8, 'knows': 7, 'himself': 5, 'to': 11, 'be': 0}\n"
     ]
    }
   ],
   "source": [
    "\"\"\"\n",
    "    vect.vocabulary_: BOW에 있는 단어 종류를 사전 형식으로 나타냄\n",
    "\"\"\"\n",
    "\n",
    "print(\"어휘 사전의 크기: \", len(vect.vocabulary_))\n",
    "print(\"어휘 사전의 내용: \\n\", vect.vocabulary_)"
   ]
  },
  {
   "cell_type": "code",
   "execution_count": 11,
   "id": "808d1191",
   "metadata": {},
   "outputs": [
    {
     "name": "stdout",
     "output_type": "stream",
     "text": [
      "BOW:  <2x13 sparse matrix of type '<class 'numpy.int64'>'\n",
      "\twith 16 stored elements in Compressed Sparse Row format>\n"
     ]
    }
   ],
   "source": [
    "bag_of_words = vect.transform(bards_words)\n",
    "print(\"BOW: \", repr(bag_of_words))"
   ]
  },
  {
   "cell_type": "code",
   "execution_count": 12,
   "id": "fa6ac711",
   "metadata": {},
   "outputs": [
    {
     "name": "stdout",
     "output_type": "stream",
     "text": [
      "BOW TO NDARRAY: \n",
      " [[0 0 1 1 1 0 1 0 0 1 1 0 1]\n",
      " [1 1 0 1 0 1 0 1 1 1 0 1 1]]\n"
     ]
    }
   ],
   "source": [
    "print(\"BOW TO NDARRAY: \\n\", bag_of_words.toarray())"
   ]
  },
  {
   "cell_type": "code",
   "execution_count": 13,
   "id": "0f367bfc",
   "metadata": {},
   "outputs": [
    {
     "data": {
      "text/plain": [
       "0      the\n",
       "1     fool\n",
       "2     doth\n",
       "3    think\n",
       "4       he\n",
       "5       is\n",
       "6    wise,\n",
       "dtype: object"
      ]
     },
     "execution_count": 13,
     "metadata": {},
     "output_type": "execute_result"
    }
   ],
   "source": [
    "wrds = pd.Series(bards_words[0].split(\" \")[ : -1])\n",
    "wrds"
   ]
  },
  {
   "cell_type": "code",
   "execution_count": 14,
   "id": "0e960334",
   "metadata": {},
   "outputs": [
    {
     "data": {
      "text/plain": [
       "0      the\n",
       "1     fool\n",
       "2     doth\n",
       "3    think\n",
       "4       he\n",
       "5       is\n",
       "6     wise\n",
       "dtype: object"
      ]
     },
     "execution_count": 14,
     "metadata": {},
     "output_type": "execute_result"
    }
   ],
   "source": [
    "wrds[6] = wrds[6][ : -1]\n",
    "wrds"
   ]
  },
  {
   "cell_type": "code",
   "execution_count": 15,
   "id": "43479da5",
   "metadata": {},
   "outputs": [
    {
     "name": "stdout",
     "output_type": "stream",
     "text": [
      "['doth', 'fool', 'he', 'is', 'the', 'think', 'wise']\n",
      "[0 0 1 1 1 0 1 0 0 1 1 0 1]\n",
      "{'the': 9, 'fool': 3, 'doth': 2, 'think': 10, 'he': 4, 'is': 6, 'wise': 12, 'but': 1, 'man': 8, 'knows': 7, 'himself': 5, 'to': 11, 'be': 0}\n"
     ]
    }
   ],
   "source": [
    "print(wrds.sort_values().to_list())\n",
    "print(bag_of_words.toarray()[0])\n",
    "print(vect.vocabulary_)"
   ]
  },
  {
   "cell_type": "code",
   "execution_count": 16,
   "id": "81f34c35",
   "metadata": {},
   "outputs": [
    {
     "data": {
      "text/plain": [
       "array([[1, 0, 0, 2, 0]], dtype=int64)"
      ]
     },
     "execution_count": 16,
     "metadata": {},
     "output_type": "execute_result"
    }
   ],
   "source": [
    "v2 = CountVectorizer()\n",
    "v2.fit([\"what is your major malfunction\"])\n",
    "\n",
    "v2.transform(['what you think is what you can be']).toarray()"
   ]
  },
  {
   "cell_type": "code",
   "execution_count": 17,
   "id": "6ff04367",
   "metadata": {
    "scrolled": true
   },
   "outputs": [
    {
     "data": {
      "text/plain": [
       "CountVectorizer()"
      ]
     },
     "execution_count": 17,
     "metadata": {},
     "output_type": "execute_result"
    }
   ],
   "source": [
    "kor_wrds = [\"안녕하세요 저는 트위치에서 방송을 하고 있는 스트리머\"]\n",
    "\n",
    "kv = CountVectorizer()\n",
    "kv.fit(kor_wrds)"
   ]
  },
  {
   "cell_type": "code",
   "execution_count": 18,
   "id": "ef2955bd",
   "metadata": {},
   "outputs": [
    {
     "name": "stdout",
     "output_type": "stream",
     "text": [
      "어휘 사전의 크기:  7\n",
      "어휘 사전의 내용: \n",
      " {'안녕하세요': 2, '저는': 4, '트위치에서': 5, '방송을': 0, '하고': 6, '있는': 3, '스트리머': 1}\n"
     ]
    }
   ],
   "source": [
    "print(\"어휘 사전의 크기: \", len(kv.vocabulary_))\n",
    "print(\"어휘 사전의 내용: \\n\", kv.vocabulary_)"
   ]
  },
  {
   "cell_type": "code",
   "execution_count": 19,
   "id": "812cc4b5",
   "metadata": {},
   "outputs": [
    {
     "name": "stdout",
     "output_type": "stream",
     "text": [
      "KR_BOW:  <1x13 sparse matrix of type '<class 'numpy.int64'>'\n",
      "\twith 0 stored elements in Compressed Sparse Row format>\n"
     ]
    }
   ],
   "source": [
    "kr_bows = vect.transform(kor_wrds)\n",
    "print(\"KR_BOW: \", repr(kr_bows))"
   ]
  },
  {
   "cell_type": "code",
   "execution_count": 20,
   "id": "4a1c3489",
   "metadata": {},
   "outputs": [
    {
     "name": "stdout",
     "output_type": "stream",
     "text": [
      "KR_BOW TO NDARRAY: \n",
      " [[0 0 0 0 0 0 0 0 0 0 0 0 0]]\n"
     ]
    }
   ],
   "source": [
    "print(\"KR_BOW TO NDARRAY: \\n\", kr_bows.toarray())"
   ]
  },
  {
   "cell_type": "code",
   "execution_count": 21,
   "id": "2744a846",
   "metadata": {},
   "outputs": [
    {
     "name": "stdout",
     "output_type": "stream",
     "text": [
      "X_train: \n",
      " <25000x75911 sparse matrix of type '<class 'numpy.int64'>'\n",
      "\twith 3431163 stored elements in Compressed Sparse Row format>\n"
     ]
    }
   ],
   "source": [
    "vect = CountVectorizer().fit(text_train)\n",
    "X_train = vect.transform(text_train)\n",
    "print(\"X_train: \\n\", repr(X_train))"
   ]
  },
  {
   "cell_type": "code",
   "execution_count": 22,
   "id": "3b6dc81a",
   "metadata": {},
   "outputs": [
    {
     "name": "stdout",
     "output_type": "stream",
     "text": [
      "특성 개수:  75911\n",
      "특성 [0 : 20]:  ['00' '000' '0000000000001' '00001' '00015' '000s' '001' '003830' '006'\n",
      " '007' '0079' '0080' '0083' '0093638' '00am' '00pm' '00s' '01' '01pm' '02']\n",
      "특성 [20010 : 20030]:  ['doppelgangers' 'doppelgänger' 'dopplebangers' 'doppleganger' 'doppler'\n",
      " 'dopy' 'doqui' 'dor' 'dora' 'dorado' 'dorama' 'doran' 'dorcas' 'dorcey'\n",
      " 'dorday' 'dore' 'doreen' 'doremus' 'doren' 'dorf']\n",
      "특성 [ : : 2000]:  ['00' 'adultery' 'appearence' 'bang' 'blissfully' 'burress' 'chaulk'\n",
      " 'compensations' 'crossfire' 'derboiler' 'dop' 'empty' 'falling' 'formats'\n",
      " 'gisbourne' 'hallucinogenics' 'honore' 'inferenced' 'johnston' 'laconic'\n",
      " 'looping' 'matlin' 'modelling' 'nerdish' 'orion' 'periphery' 'preached'\n",
      " 'raha' 'resolving' 'salli' 'shaffer' 'smurfs' 'stereotypic'\n",
      " 'synchronized' 'tirard' 'una' 'venantini' 'whycome']\n"
     ]
    }
   ],
   "source": [
    "feature_names = vect.get_feature_names_out()\n",
    "\n",
    "print(\"특성 개수: \", len(feature_names))\n",
    "print(\"특성 [0 : 20]: \", feature_names[ : 20])\n",
    "print(\"특성 [20010 : 20030]: \", feature_names[20010 : 20030])\n",
    "print(\"특성 [ : : 2000]: \", feature_names[ : : 2000])"
   ]
  },
  {
   "cell_type": "markdown",
   "id": "c8bfaf1e",
   "metadata": {},
   "source": [
    "#### 특성 추출 개선 전 rough data 그대로 썼을 때의 결과"
   ]
  },
  {
   "cell_type": "markdown",
   "id": "53afe28b",
   "metadata": {},
   "source": [
    "특성 추출 전에는 단수형/복수형을 서로 다른 단어로 인식하게되어 성능 저하가 발생할 수 있다"
   ]
  },
  {
   "cell_type": "code",
   "execution_count": 23,
   "id": "33cb117b",
   "metadata": {},
   "outputs": [
    {
     "name": "stdout",
     "output_type": "stream",
     "text": [
      "MEAN(CROSS_VAL): 0.88\n"
     ]
    }
   ],
   "source": [
    "from sklearn.model_selection import cross_val_score\n",
    "from sklearn.linear_model import LogisticRegression\n",
    "\n",
    "scores = cross_val_score(LogisticRegression(max_iter=1000), X_train, y_train, n_jobs=-1)\n",
    "print(\"MEAN(CROSS_VAL): {:.2f}\".format(np.mean(scores)))"
   ]
  },
  {
   "cell_type": "code",
   "execution_count": 24,
   "id": "5edc93d6",
   "metadata": {},
   "outputs": [
    {
     "name": "stdout",
     "output_type": "stream",
     "text": [
      "BEST CROSS VAL SCORE: 0.89\n",
      "BEST PARAMS:  {'C': 0.1}\n"
     ]
    }
   ],
   "source": [
    "from sklearn.model_selection import GridSearchCV\n",
    "\n",
    "param_grid = {'C': [10**x for x in range(-3, 2)]}\n",
    "\n",
    "grid = GridSearchCV(LogisticRegression(max_iter=5000), param_grid, n_jobs=-1)\n",
    "grid.fit(X_train, y_train)\n",
    "print(\"BEST CROSS VAL SCORE: {:.2f}\".format(grid.best_score_))\n",
    "print(\"BEST PARAMS: \", grid.best_params_)"
   ]
  },
  {
   "cell_type": "code",
   "execution_count": 25,
   "id": "15187104",
   "metadata": {},
   "outputs": [
    {
     "name": "stdout",
     "output_type": "stream",
     "text": [
      "TEST_SCORE: 0.88\n"
     ]
    }
   ],
   "source": [
    "X_test = vect.transform(text_test)\n",
    "print(\"TEST_SCORE: {:.2f}\".format(grid.score(X_test, y_test)))"
   ]
  },
  {
   "cell_type": "code",
   "execution_count": 26,
   "id": "571deb3e",
   "metadata": {},
   "outputs": [
    {
     "data": {
      "text/plain": [
       "29.129464797973633"
      ]
     },
     "execution_count": 26,
     "metadata": {},
     "output_type": "execute_result"
    }
   ],
   "source": [
    "np.mean(grid.cv_results_['mean_fit_time'])"
   ]
  },
  {
   "cell_type": "markdown",
   "id": "1ec38c88",
   "metadata": {},
   "source": [
    "### 특성 추출"
   ]
  },
  {
   "cell_type": "markdown",
   "id": "3dc3335f",
   "metadata": {},
   "source": [
    "#### 1. min_df: 최소 n개 문서에서 나타난 단어만 포함"
   ]
  },
  {
   "cell_type": "code",
   "execution_count": 57,
   "id": "2cf81388",
   "metadata": {},
   "outputs": [
    {
     "name": "stdout",
     "output_type": "stream",
     "text": [
      "min_df로 제한한 X_train:  <25000x27264 sparse matrix of type '<class 'numpy.int64'>'\n",
      "\twith 3352876 stored elements in Compressed Sparse Row format>\n"
     ]
    }
   ],
   "source": [
    "vect = CountVectorizer(min_df=5).fit(text_train)\n",
    "X_train = vect.transform(text_train)\n",
    "\n",
    "print(\"min_df로 제한한 X_train: \", repr(X_train))"
   ]
  },
  {
   "cell_type": "code",
   "execution_count": 58,
   "id": "9df0c048",
   "metadata": {
    "scrolled": true
   },
   "outputs": [
    {
     "name": "stdout",
     "output_type": "stream",
     "text": [
      "FEATURE [ : 50] \n",
      " ['00' '000' '007' '00s' '01' '02' '03' '04' '05' '06' '07' '08' '09' '10'\n",
      " '100' '1000' '100th' '101' '102' '103' '104' '105' '107' '108' '10s'\n",
      " '10th' '11' '110' '112' '116' '117' '11th' '12' '120' '12th' '13' '135'\n",
      " '13th' '14' '140' '14th' '15' '150' '15th' '16' '160' '1600' '16mm' '16s'\n",
      " '16th']\n",
      "20010 ~ 20030 \n",
      " ['repetition' 'repetitions' 'repetitious' 'repetitive' 'rephrase'\n",
      " 'replace' 'replaced' 'replacement' 'replaces' 'replacing' 'replay'\n",
      " 'replayed' 'replaying' 'replays' 'replete' 'replica' 'replicas'\n",
      " 'replicate' 'replied' 'replies']\n",
      "[ : : 700] \n",
      " ['00' 'affectionate' 'appropriate' 'barbet' 'blur' 'butch' 'cheery'\n",
      " 'commit' 'courtroom' 'deconstruct' 'disgraceful' 'dvr' 'escort' 'fella'\n",
      " 'freezing' 'gorillas' 'havana' 'hunk' 'insist' 'juice' 'left' 'mafia'\n",
      " 'met' 'musicals' 'occult' 'parliament' 'pleasence' 'prop' 'recites'\n",
      " 'revisionist' 'sassy' 'shedding' 'sniff' 'stems' 'swear' 'thugs' 'tween'\n",
      " 'vanish' 'whale']\n"
     ]
    }
   ],
   "source": [
    "feature_names = vect.get_feature_names_out()\n",
    "\n",
    "print(\"FEATURE [ : 50] \\n\", feature_names[ : 50])\n",
    "print(\"20010 ~ 20030 \\n\", feature_names[20010 : 20030])\n",
    "print(\"[ : : 700] \\n\", feature_names[ : : 700])"
   ]
  },
  {
   "cell_type": "code",
   "execution_count": null,
   "id": "d4ae436e",
   "metadata": {},
   "outputs": [],
   "source": [
    "grid = GridSearchCV(LogisticRegression(max_iter=5000), param_grid, n_jobs=-1)\n",
    "grid.fit(X_train, y_train)"
   ]
  },
  {
   "cell_type": "code",
   "execution_count": 59,
   "id": "6730fbde",
   "metadata": {},
   "outputs": [
    {
     "name": "stdout",
     "output_type": "stream",
     "text": [
      "BEST CV SCORE:  0.8880399999999999\n",
      "MEAN FIT TIME:  15.146782007217405\n",
      "MAX FIT TIME:  32.136801385879515\n",
      "MIN FIT TIME:  1.853813648223877\n"
     ]
    }
   ],
   "source": [
    "print(\"SIZEOF VOCABS: \", vect.get_feature_names_out().size)\n",
    "print(\"BEST CV SCORE: \", grid.best_score_)\n",
    "print(\"MEAN FIT TIME: \", np.mean(grid.cv_results_['mean_fit_time']))\n",
    "print(\"MAX FIT TIME: \", np.max(grid.cv_results_['mean_fit_time']))\n",
    "print(\"MIN FIT TIME: \", np.min(grid.cv_results_['mean_fit_time']))"
   ]
  },
  {
   "cell_type": "code",
   "execution_count": 60,
   "id": "ea96d4ec",
   "metadata": {},
   "outputs": [
    {
     "data": {
      "text/plain": [
       "15.146782007217405"
      ]
     },
     "execution_count": 60,
     "metadata": {},
     "output_type": "execute_result"
    }
   ],
   "source": [
    "np.mean(grid.cv_results_['mean_fit_time'])"
   ]
  },
  {
   "cell_type": "markdown",
   "id": "9a7c008b",
   "metadata": {},
   "source": [
    "최소 출현 문서 수로 규제했을 때의 효과\n",
    "1. 성능이 좋아진 것은 아니다\n",
    "2. 대신 단어장 크기가 줄어 훈련 시간이 줄었다"
   ]
  },
  {
   "cell_type": "markdown",
   "id": "78d82b72",
   "metadata": {},
   "source": [
    "#### 2. 불용어 제외: 불필요한 관사, 조사, 전치사, 접속사 등은 사전에서 제외"
   ]
  },
  {
   "cell_type": "code",
   "execution_count": 61,
   "id": "c65e49f4",
   "metadata": {},
   "outputs": [
    {
     "name": "stdout",
     "output_type": "stream",
     "text": [
      "SIZEOF STOPWORDS:  318\n",
      "['put', 'done', 'nowhere', 'while', 'ever', 'until', 'name', 'thereby', 'whether', 'ltd', 'toward', 'during', 'moreover', 'across', 'after', 'himself', 'system', 'somehow', 'off', 'my', 'once', 'except', 'what', 'all', 'will', 'beyond', 'empty', 'would', 'already', 'yet', 'never', 'please']\n"
     ]
    }
   ],
   "source": [
    "from sklearn.feature_extraction.text import ENGLISH_STOP_WORDS\n",
    "\n",
    "print(\"SIZEOF STOPWORDS: \", len(ENGLISH_STOP_WORDS))\n",
    "print(list(ENGLISH_STOP_WORDS)[ : : 10])"
   ]
  },
  {
   "cell_type": "code",
   "execution_count": 62,
   "id": "a14c075d",
   "metadata": {},
   "outputs": [
    {
     "name": "stdout",
     "output_type": "stream",
     "text": [
      "<25000x26959 sparse matrix of type '<class 'numpy.int64'>'\n",
      "\twith 2149073 stored elements in Compressed Sparse Row format>\n"
     ]
    }
   ],
   "source": [
    "vect = CountVectorizer(min_df=5, stop_words=\"english\").fit(text_train)\n",
    "X_train = vect.transform(text_train)\n",
    "print(repr(X_train))"
   ]
  },
  {
   "cell_type": "code",
   "execution_count": null,
   "id": "c2d87ca0",
   "metadata": {},
   "outputs": [],
   "source": [
    "grid = GridSearchCV(LogisticRegression(max_iter=5000), param_grid, n_jobs=-1)\n",
    "grid.fit(X_train, y_train)"
   ]
  },
  {
   "cell_type": "code",
   "execution_count": 67,
   "id": "bfa5f12b",
   "metadata": {},
   "outputs": [
    {
     "name": "stdout",
     "output_type": "stream",
     "text": [
      "SIZEOF VOCABS:  26959\n",
      "BEST CV SCORE:  0.883\n",
      "MEAN FIT TIME:  3.7141267204284665\n",
      "MAX FIT TIME:  7.604506111145019\n",
      "MIN FIT TIME:  0.6521405696868896\n"
     ]
    }
   ],
   "source": [
    "print(\"SIZEOF VOCABS: \", vect.get_feature_names_out().size)\n",
    "print(\"BEST CV SCORE: \", grid.best_score_)\n",
    "print(\"MEAN FIT TIME: \", np.mean(grid.cv_results_['mean_fit_time']))\n",
    "print(\"MAX FIT TIME: \", np.max(grid.cv_results_['mean_fit_time']))\n",
    "print(\"MIN FIT TIME: \", np.min(grid.cv_results_['mean_fit_time']))"
   ]
  },
  {
   "cell_type": "markdown",
   "id": "3f43d1d8",
   "metadata": {},
   "source": [
    "불용어 제외로 인한 효과\n",
    "1. 여기서는 큰 효과를 볼 수 없다<br>\n",
    "원인: 몇만 개 특성 중에서 300개 빠진다고 별로 티가 나지 않음\n",
    "\n",
    "결론: 불용어 목록은 데이터만 보고 불용어를 골라내기 어려운 작은 데이터셋에서나 도움이 된다"
   ]
  },
  {
   "cell_type": "markdown",
   "id": "a5d15214",
   "metadata": {},
   "source": [
    "#### 3. max_df: n% OR n개 이상의 문서에 출현하는 단어는 제거"
   ]
  },
  {
   "cell_type": "code",
   "execution_count": 42,
   "id": "750b8026",
   "metadata": {},
   "outputs": [],
   "source": [
    "\"\"\"\n",
    "    max_df의 값은 0~1 사이의 실수 OR 정수\n",
    "        0~1 사이의 실수 >>> %\n",
    "        정수 >>> 문서 개수\n",
    "\"\"\"\n",
    "\n",
    "param_grid = [\n",
    "    {\n",
    "        'logistic__C': [10**x for x in range(-2, 3)]\n",
    "    },\n",
    "    {\n",
    "        'vect__max_df': np.arange(0.1, 0.51, 0.1)\n",
    "    }\n",
    "]"
   ]
  },
  {
   "cell_type": "code",
   "execution_count": 44,
   "id": "85d078d9",
   "metadata": {},
   "outputs": [
    {
     "data": {
      "text/plain": [
       "GridSearchCV(estimator=Pipeline(steps=[('vect', CountVectorizer()),\n",
       "                                       ('logistic',\n",
       "                                        LogisticRegression(max_iter=5000))]),\n",
       "             n_jobs=-1,\n",
       "             param_grid=[{'logistic__C': [0.01, 0.1, 1, 10, 100]},\n",
       "                         {'vect__max_df': array([0.1, 0.2, 0.3, 0.4, 0.5])}])"
      ]
     },
     "execution_count": 44,
     "metadata": {},
     "output_type": "execute_result"
    }
   ],
   "source": [
    "from sklearn.pipeline import Pipeline\n",
    "\n",
    "pipe = Pipeline([\n",
    "    ('vect', CountVectorizer()),\n",
    "    ('logistic', LogisticRegression(max_iter=5000))\n",
    "])\n",
    "\n",
    "grid = GridSearchCV(pipe, param_grid, n_jobs=-1)\n",
    "grid.fit(text_test, y_train)"
   ]
  },
  {
   "cell_type": "code",
   "execution_count": null,
   "id": "777e8d00",
   "metadata": {},
   "outputs": [],
   "source": [
    "vocabs = grid.best_estimator_.named_steps['vect'].get_feature_names_out()"
   ]
  },
  {
   "cell_type": "code",
   "execution_count": 48,
   "id": "16ad631d",
   "metadata": {},
   "outputs": [
    {
     "name": "stdout",
     "output_type": "stream",
     "text": [
      "VOCABS IN BEST ESTIMATOR: \n",
      " ['00' '1hour17min' '80ish' 'acclaiming' 'adventures' 'aking' 'amass'\n",
      " 'angsting' 'appomatox' 'arto' 'attribute' 'bachelorette' 'barbican'\n",
      " 'beaudelaire' 'berenice' 'birkenau' 'bludgeon' 'bootmen' 'brazul'\n",
      " 'brutalization' 'butler' 'canister' 'case' 'cerkassov' 'cheirel' 'chump'\n",
      " 'clifton' 'collectivity' 'comprehends' 'conspicuous' 'cormann' 'cramer'\n",
      " 'crueler' 'dadaism' 'deaprtment' 'delboys' 'descendeth' 'dickson'\n",
      " 'discretely' 'dixie' 'douglas' 'dudeology' 'ebbs' 'elena' 'endeavours'\n",
      " 'erases' 'evilly' 'exquisit' 'fantastiks' 'ferociously' 'firsthand'\n",
      " 'fluorescent' 'foy' 'fuccons' 'gangsterism' 'geostigma' 'glimpse'\n",
      " 'gothamites' 'grinning' 'guzzling' 'hansika' 'headlong' 'herucles'\n",
      " 'hokuto' 'hotheaded' 'hyperkinesis' 'impalements' 'indeterminacy'\n",
      " 'inquiries' 'intolerance' 'iversen' 'jetliner' 'junagadh75' 'keepsake'\n",
      " 'kizilirmak' 'kurds' 'larva' 'leila' 'limburger' 'lonelyhearts'\n",
      " 'lunkhead' 'mails' 'marceau' 'matriarchal' 'medak' 'metaphorically'\n",
      " 'mininal' 'mods' 'morose' 'municipalities' 'narratorhaving' 'newbie'\n",
      " 'noon' 'oblate' 'omnibus' 'ot' 'overweight' 'paramour' 'peaceably'\n",
      " 'persnickety' 'pictures' 'pleanty' 'popcultured' 'predicamant'\n",
      " 'productive' 'psychoses' 'quatsi' 'ramu' 'receive' 'regulation'\n",
      " 'replaceable' 'reusing' 'risky' 'rossano' 'sabre' 'sartre' 'schofield'\n",
      " 'sec' 'serviceable' 'shepherd' 'sib' 'skaters' 'slutz' 'softly' 'sparber'\n",
      " 'sprays' 'statically' 'stother' 'subliminally' 'supersized' 'switchedand'\n",
      " 'tangentially' 'tempe' 'therapist' 'timbers' 'toprak' 'transmittable'\n",
      " 'trudgery' 'tzu' 'underhanded' 'unliving' 'upperclassman' 'vaulted'\n",
      " 'villages' 'waddled' 'waywardness' 'whirlpools' 'wisecracks' 'wretchedly'\n",
      " 'you' 'óli']\n",
      "SIZEOF VOCABS:  75018\n",
      "BEST CV SCORE:  0.89376\n",
      "MEAN FIT TIME:  31.267362332344057\n",
      "MAX FIT TIME:  76.33687753677368\n",
      "MIN FIT TIME:  14.350763273239135\n"
     ]
    }
   ],
   "source": [
    "print(\"VOCABS IN BEST ESTIMATOR: \\n\", vocabs[ : : 500])\n",
    "print(\"SIZEOF VOCABS: \", vocabs.size)\n",
    "\n",
    "print(\"BEST CV SCORE: \", grid.best_score_)\n",
    "print(\"MEAN FIT TIME: \", np.mean(grid.cv_results_['mean_fit_time']))\n",
    "print(\"MAX FIT TIME: \", np.max(grid.cv_results_['mean_fit_time']))\n",
    "print(\"MIN FIT TIME: \", np.min(grid.cv_results_['mean_fit_time']))"
   ]
  },
  {
   "cell_type": "markdown",
   "id": "512cad1d",
   "metadata": {},
   "source": [
    "# tf-idf: 의미를 고려한 방식"
   ]
  },
  {
   "cell_type": "markdown",
   "id": "00551ea6",
   "metadata": {},
   "source": [
    "아이디어: 특정 문서에서 빈출하는 단어는 그 문서의 내용을 잘 설명하는 단어라고 보는 것<br>\n",
    "ex. TXN의 매출 구성에서는 analog, embedded processing이 나타나는 것<br>\n",
    "구현: 특정 문서에서 빈출하는 단어에 가중치를 주는 방식<br>\n",
    "sklearn에서의 tf-idf 변한은 다음과 같이 한다\n",
    "> $\\mbox{tfidf}(w, d) = \\mbox{tf}(log({N+1 \\over N_w + 1}) + 1)$\n",
    "\n",
    "여기서\n",
    "- $N$: 훈련 세트에 있는 문서의 개수\n",
    "- $N_w$: 단어 $w$ 나타난 훈련 세트의 문서 개수\n",
    "- tf(단어 빈도 수): 단어 $w$가 대상 문서 $d$에 나타난 횟수"
   ]
  },
  {
   "cell_type": "code",
   "execution_count": 68,
   "id": "66d9b9ae",
   "metadata": {},
   "outputs": [
    {
     "name": "stdout",
     "output_type": "stream",
     "text": [
      "BEST CROSS VAL SCORE: 0.89\n"
     ]
    }
   ],
   "source": [
    "\"\"\"\n",
    "    sklearn에서는 TfidfVectorizer, TfidfTransformer로 tf-idf를 구현한다\n",
    "    \n",
    "    TfidfTransformer: CountVectorizer가 만든 희소 행렬로 tf-idf 계산\n",
    "    TfidfVectorizer: CountVectorizer의 서브클래스로, CountVectorizer로 BOW를 만든 뒤 TfidfTransformer로 tf-idf 변환을 한다\n",
    "    \n",
    "    이 때, 둘 다 tf-idf 계산을 한 다음 유클리디안 노름이 1이 되도록 각 문서 벡터의 스케일을 바꾼다 >>> L2 정규화\n",
    "    이 작업은 norm 매개변수에서 l2, l1 중 하나로 설정할 수 있다\n",
    "    \n",
    "    tf-idf는 훈련 데이터의 통계적 속성을 사용한다 >>> 테스트셋 정보가 새면 안된다\n",
    "\"\"\"\n",
    "\n",
    "from sklearn.feature_extraction.text import TfidfVectorizer\n",
    "from sklearn.pipeline import make_pipeline\n",
    "\n",
    "pipe = make_pipeline(TfidfVectorizer(min_df=5), LogisticRegression(max_iter=5000))\n",
    "param_grid = {'logisticregression__C': [10**x for x in range(-3, 3)]}\n",
    "\n",
    "grid = GridSearchCV(pipe, param_grid, n_jobs=-1)\n",
    "grid.fit(text_train, y_train)\n",
    "print(\"BEST CROSS VAL SCORE: {:.2f}\".format(grid.best_score_))"
   ]
  },
  {
   "cell_type": "markdown",
   "id": "98e61472",
   "metadata": {},
   "source": [
    "#### 주의: tf-idf는 비지도 학습이므로 tf-idf에서의 중요도가 클래스 레이블과 꼭 관계있는 것은 아니다"
   ]
  },
  {
   "cell_type": "code",
   "execution_count": 70,
   "id": "39654479",
   "metadata": {},
   "outputs": [
    {
     "name": "stdout",
     "output_type": "stream",
     "text": [
      "LOW-tfidf FEATURES: \n",
      " ['suplexes' 'gauche' 'hypocrites' 'oncoming' 'galadriel' 'songwriting'\n",
      " 'emerald' 'mclaughlin' 'sylvain' 'oversee' 'cataclysmic' 'pressuring'\n",
      " 'uphold' 'thieving' 'inconsiderate' 'ware' 'denim' 'reverting' 'booed'\n",
      " 'spacious']\n",
      "HIGH-tfidf FEATURES: \n",
      " ['gadget' 'zatoichi' 'demons' 'lennon' 'bye' 'sucks' 'dev' 'weller'\n",
      " 'sasquatch' 'botched' 'xica' 'darkman' 'woo' 'casper' 'doodlebops'\n",
      " 'smallville' 'wei' 'scanners' 'steve' 'pokemon']\n"
     ]
    }
   ],
   "source": [
    "vectorizer = grid.best_estimator_.named_steps['tfidfvectorizer']\n",
    "\n",
    "X_train = vectorizer.transform(text_train)\n",
    "max_value = X_train.max(axis=0).toarray().ravel()\n",
    "sorted_by_tfidf = max_value.argsort()\n",
    "feature_names = np.array(vectorizer.get_feature_names_out())\n",
    "\n",
    "print(\"LOW-tfidf FEATURES: \\n\", feature_names[sorted_by_tfidf[ : 20]])\n",
    "print(\"HIGH-tfidf FEATURES: \\n\", feature_names[sorted_by_tfidf[-20 : ]])"
   ]
  },
  {
   "cell_type": "code",
   "execution_count": 74,
   "id": "69c748ee",
   "metadata": {},
   "outputs": [
    {
     "name": "stdout",
     "output_type": "stream",
     "text": [
      "LOWEST-idf FEATURES: \n",
      " ['the' 'and' 'of' 'to' 'this' 'is' 'it' 'in' 'that' 'but' 'for' 'with'\n",
      " 'was' 'as' 'on' 'movie' 'not' 'have' 'one' 'be' 'film' 'are' 'you' 'all'\n",
      " 'at' 'an' 'by' 'so' 'from' 'like' 'who' 'they' 'there' 'if' 'his' 'out'\n",
      " 'just' 'about' 'he' 'or' 'has' 'what' 'some' 'good' 'can' 'more' 'when'\n",
      " 'time' 'up' 'very' 'even' 'only' 'no' 'would' 'my' 'see' 'really' 'story'\n",
      " 'which' 'well' 'had' 'me' 'than' 'much' 'their' 'get' 'were' 'other'\n",
      " 'been' 'do' 'most' 'don' 'her' 'also' 'into' 'first' 'made' 'how' 'great'\n",
      " 'because' 'will' 'people' 'make' 'way' 'could' 'we' 'bad' 'after' 'any'\n",
      " 'too' 'then' 'them' 'she' 'watch' 'think' 'acting' 'movies' 'seen' 'its'\n",
      " 'him']\n"
     ]
    }
   ],
   "source": [
    "\"\"\" tf-idf가 낮은 단어를 보면 대부분 관사, 접속사, 전치사거나 너무 자주 나오는 단어이다 \"\"\"\n",
    "\n",
    "sorted_by_idf = np.argsort(vectorizer.idf_)\n",
    "print(\"LOWEST-idf FEATURES: \\n\", feature_names[sorted_by_idf[ : 100]])"
   ]
  },
  {
   "cell_type": "markdown",
   "id": "249f0d83",
   "metadata": {},
   "source": [
    "# 모델 계수 조사"
   ]
  },
  {
   "cell_type": "code",
   "execution_count": 76,
   "id": "0c7fbfa7",
   "metadata": {},
   "outputs": [
    {
     "data": {
      "image/png": "[encoded data removed]",
      "text/plain": [
       "<Figure size 1500x500 with 1 Axes>"
      ]
     },
     "metadata": {},
     "output_type": "display_data"
    }
   ],
   "source": [
    "\"\"\" 모델 계수가 가장 큰 단어와 작은 단어를 부정/긍정 리뷰 별로 나눠보면 \"\"\"\n",
    "\n",
    "mglearn.tools.visualize_coefficients(\n",
    "    grid.best_estimator_.named_steps['logisticregression'].coef_[0],\n",
    "    feature_names, n_top_features=40\n",
    ")"
   ]
  },
  {
   "cell_type": "code",
   "execution_count": 77,
   "id": "aac82e84",
   "metadata": {},
   "outputs": [
    {
     "name": "stdout",
     "output_type": "stream",
     "text": [
      "bards_words: \n",
      " ['the fool doth think he is wise, ', 'but the wise man knows himself to be a fool']\n"
     ]
    }
   ],
   "source": [
    "print('bards_words: \\n', bards_words)"
   ]
  },
  {
   "cell_type": "markdown",
   "id": "caadcf22",
   "metadata": {},
   "source": [
    "# n-그램: 문맥을 고려할 수 있는 방법"
   ]
  },
  {
   "cell_type": "markdown",
   "id": "4736d45b",
   "metadata": {},
   "source": [
    "BOW의 한계: 한 단어씩 나누면서 문맥 고려가 힘들어진다<br>\n",
    "<h5>ex. \"좋았다가 말았다\"에서 좋았다와 \"친절해서 좋았다\"에서 \"좋았다\"의 문맥은 완전히 다르다</h5><br>\n",
    "n-그램은 단어 딱 하나만 고려하는 것이 아닌, 옆에 있는 단어 n개도 같이 고려하는 방법이다 <br>\n",
    "\\>>> 자기 하나 + 옆에 하나면 바이그램, 옆에 두 개면 트라이그램, n개면 n그램 이런 식"
   ]
  },
  {
   "cell_type": "code",
   "execution_count": null,
   "id": "237d849e",
   "metadata": {},
   "outputs": [],
   "source": [
    "cv = CounterVectrizer(ngram_range=(1, 1)).fit(bards_words)\n",
    "print(\"어휘 사전 크기: \", len(cv.vocabulary_))\n",
    "print(cv.get_features_names_out())"
   ]
  },
  {
   "cell_type": "code",
   "execution_count": null,
   "id": "1bb48e29",
   "metadata": {},
   "outputs": [],
   "source": [
    "cv = CounterVectrizer(ngram_range=(2, 2)).fit(bards_words)\n",
    "print(\"어휘 사전 크기: \", len(cv.vocabulary_))\n",
    "print(cv.get_features_names_out())"
   ]
  },
  {
   "cell_type": "code",
   "execution_count": null,
   "id": "7b422c43",
   "metadata": {},
   "outputs": [],
   "source": [
    "cv = CounterVectrizer(ngram_range=(1, 3)).fit(bards_words)\n",
    "print(\"어휘 사전 크기: \", len(cv.vocabulary_))\n",
    "print(cv.get_features_names_out())"
   ]
  },
  {
   "cell_type": "code",
   "execution_count": null,
   "id": "8402f3e6",
   "metadata": {},
   "outputs": [],
   "source": [
    "pipe = make_pipeline(TfidfVectorizer(min_df=5), LogisticRegression(max_iter=5000))\n",
    "\n",
    "param_grid = {\n",
    "    'logisticregression__C': [10**x for x in range(-3, 3)],\n",
    "    'tfidfVectorizer__ngram_range': [(1, 1), (1, 2), (1, 3)]\n",
    "}\n",
    "\n",
    "grid = GridSearchCV(pipe, param_grid, n_jobs=-1)\n",
    "grid.fit(text_train, y_train)\n",
    "\n",
    "print(\"BEST CV SCORE: {:.2f}\".format(grid.best_score_))\n",
    "print(\"BEST PARAMS: \", grid.best_params_)"
   ]
  },
  {
   "cell_type": "code",
   "execution_count": null,
   "id": "dadbcc77",
   "metadata": {},
   "outputs": [],
   "source": [
    "scores = grid.cv_results_['mean_test_score'].reshape(-1, 3).T\n",
    "\n",
    "heatmap = mglearn.tools.heatmap(\n",
    "    scores,\n",
    "    xlabel='C', ylabel='ngram_range',\n",
    "    xticklabels=param_grid['logisticregression__C'], yticklabels=param_grid['tfidfvectorizer__ngram_range']\n",
    "    cmap='viridis',\n",
    "    fmt=\"%.3f\",\n",
    ")\n",
    "\n",
    "plt.colorbar(heatmap)\n",
    "plt.show()"
   ]
  },
  {
   "cell_type": "code",
   "execution_count": null,
   "id": "269e1971",
   "metadata": {},
   "outputs": [],
   "source": [
    "vect = grid.best_estimator_.named_steps['tfidfvectorizer']\n",
    "feature_naes = np.array(vect.get_feature_names_out())\n",
    "coef = grid.best_estimator_.naemd_steps['logistigregression'].coef_\n",
    "mgelarn.tools.visualize_coefficients(coef[0], feature_names, n_top_features=40)"
   ]
  },
  {
   "cell_type": "code",
   "execution_count": null,
   "id": "f05c453f",
   "metadata": {},
   "outputs": [],
   "source": [
    "mask = np.array([len(feature.split(\" \")) for feature in feature_names]) == 3\n",
    "\n",
    "mglearn.tools.visualize_coefficients(coef.ravel()[mask], feature_names[mask], n_top_features=40)"
   ]
  },
  {
   "cell_type": "code",
   "execution_count": null,
   "id": "78e846e7",
   "metadata": {},
   "outputs": [],
   "source": [
    "import spacy\n",
    "import nltk\n",
    "\n",
    "nltk.__version__\n",
    "spacy.__version__"
   ]
  },
  {
   "cell_type": "code",
   "execution_count": null,
   "id": "bea0b7af",
   "metadata": {},
   "outputs": [],
   "source": [
    "en_nlp=  spacy.load('en_core_web_sm')\n",
    "stemmer = nltk.stem.PorterStemmer()\n",
    "\n",
    "def compare_normalization(doc):\n",
    "    doc_spacy = en_nlp(doc)\n",
    "    print(\"표제어: \")\n",
    "    print([token.lenna_ for token in doc_spacy])\n",
    "    print(\"어간: \")\n",
    "    print([stemmer.stem(token.norm_.lower()) for token in doc_spacy])"
   ]
  },
  {
   "cell_type": "code",
   "execution_count": null,
   "id": "b4e0399a",
   "metadata": {},
   "outputs": [],
   "source": [
    "compare_normalization(\n",
    "    u\"Our meeting today was worse than yesterday, \"\n",
    "    \"I'm scared of meeting the clients tomorrow\"\n",
    ")"
   ]
  },
  {
   "cell_type": "code",
   "execution_count": null,
   "id": "e763277d",
   "metadata": {},
   "outputs": [],
   "source": [
    "en_nlp = spacy.load('en_core_web_sm', disable=['parser', 'ner'])\n",
    "\n",
    "def custom_tokenizer(document):\n",
    "    doc_spacy = en_nlp(document)\n",
    "    return [token.lemma for token in doc_spacy]\n",
    "\n",
    "lemma_vect = CountVectoricer(tokenizer=custom_tokenizer, min_df=5)"
   ]
  },
  {
   "cell_type": "code",
   "execution_count": null,
   "id": "c0bb6b36",
   "metadata": {},
   "outputs": [],
   "source": [
    "X_train_lemma = lemma_vect.fit_transform(text_train)\n",
    "print(\"X_train_lemma.shape: \", X_train_lemma.shape)"
   ]
  },
  {
   "cell_type": "code",
   "execution_count": null,
   "id": "cf127ec2",
   "metadata": {},
   "outputs": [],
   "source": [
    "vect = CountVectorizer(min_df=5).fit(text_train)\n",
    "X_train = vect.transform(text_train)\n",
    "print(\"X_train.shape:\", X_train.shape)"
   ]
  },
  {
   "cell_type": "code",
   "execution_count": null,
   "id": "1ee4eef9",
   "metadata": {},
   "outputs": [],
   "source": [
    "from sklearn.model_selection import StratifiedShuffleSplit\n",
    "\n",
    "param_grid = {'C': [10**x for x in range(-3, 3)]}\n",
    "cv = StratifiedShuffleSplit(n_splits=5, test_size=0.99, train_size=0.01, random_state=0)\n",
    "grid = GridSearchCV(LogisticRegression(max_iter=5000), param_grid, cv=cv, n_jobs=-1)\n",
    "\n",
    "grid.fit(X_train, y_train)\n",
    "print(\"BEST CV SCORE(countervectorizer): \", grid.best_score_)\n",
    "\n",
    "grid.fit(X_train_lemma, y_train)\n",
    "print(\"BEST CV SCORE(lemma): \", grid.best_score_)"
   ]
  },
  {
   "cell_type": "code",
   "execution_count": null,
   "id": "5bedf6df",
   "metadata": {},
   "outputs": [],
   "source": [
    "vect = CountVectorizer(max_features=10000, max_df=0.15)\n",
    "X = vect.fit_transform(text_train)"
   ]
  },
  {
   "cell_type": "code",
   "execution_count": null,
   "id": "5f6c5d41",
   "metadata": {},
   "outputs": [],
   "source": [
    "from sklearn.decomposition import LatentDirichletAllocation\n",
    "lda = LatentDirichletAllocation(n_components=10, learning_method='batch', max_iter=25, random_state=0, n_jobs=-1)\n",
    "\n",
    "document_topics = lda.fit_transform(X)"
   ]
  },
  {
   "cell_type": "code",
   "execution_count": null,
   "id": "8ce53012",
   "metadata": {},
   "outputs": [],
   "source": [
    "print(\"lda.components_.shape\", lda.components_.shape)"
   ]
  },
  {
   "cell_type": "code",
   "execution_count": null,
   "id": "16d90cd2",
   "metadata": {},
   "outputs": [],
   "source": [
    "sorting = np.argsort(lda.components, axis=1)[ : , : : -1]\n",
    "feature_names = np.array(vect.get_feature_names_out())\n",
    "\n",
    "mglearn.tools.print_topics(\n",
    "    topics=range(10),\n",
    "    feature_names=feature_names, \n",
    "    sorting=sorting,\n",
    "    topics_per_chunk=5,\n",
    "    n_words=10\n",
    ")"
   ]
  },
  {
   "cell_type": "code",
   "execution_count": null,
   "id": "3cbe199c",
   "metadata": {},
   "outputs": [],
   "source": [
    "lda100 = LatentDirichletAllocation(\n",
    "    n_components=100,\n",
    "    learning_method='batch',\n",
    "    max_iter=25,\n",
    "    random_state=0, n_jobs=-1\n",
    ")\n",
    "\n",
    "document_topics100 = lda100.fit_transform(X)"
   ]
  },
  {
   "cell_type": "code",
   "execution_count": null,
   "id": "108a8b65",
   "metadata": {},
   "outputs": [],
   "source": [
    "topics = np.array([7, 16, 24, 25, 28, 36, 37, 41, 45, 51, 53, 54, 63, 89, 97])"
   ]
  },
  {
   "cell_type": "code",
   "execution_count": null,
   "id": "d85c2bb1",
   "metadata": {},
   "outputs": [],
   "source": [
    "sorting = np.argsort(lda100.components_, axis=1)[ : , : : -1]\n",
    "feature_names = np.array(vect.get_feature_names_out())\n",
    "mglearn.tools.print_topics(\n",
    "    topics=topics, \n",
    "    feature_names=feature_names,\n",
    "    sorting=sorting, topics_per_chunk=5, n_words=20\n",
    ")"
   ]
  },
  {
   "cell_type": "code",
   "execution_count": null,
   "id": "7cccaf11",
   "metadata": {},
   "outputs": [],
   "source": [
    "music = np.argsort(document_topics100[ : , 45])[ : : -1]\n",
    "\n",
    "for i in music[ : 10] :\n",
    "    print(b\".\".join(text_train[i].split(b\".\")[ : 2]) + b\".\\n\")"
   ]
  },
  {
   "cell_type": "code",
   "execution_count": null,
   "id": "a2c5d28e",
   "metadata": {},
   "outputs": [],
   "source": [
    "fig, ax = plt.subplots(1, 2, figsize=(10, 10))\n",
    "\n",
    "topic_names = [\"{:>2} \".format(i) + \" \".join(words) for i, words in enumerate(feature_names[sorting[ : , : 2]])]\n",
    "\n",
    "forcol in [0, 1] :\n",
    "    start = col * 50\n",
    "    end = (col + ) * 50\n",
    "    ax[col].barh(np.arange(50), np.sum(document_topics100, axis=0)[start : end])\n",
    "    ax[col].set_yticks(np.arange(50))\n",
    "    ax[col].set_yticklabels(topic_names[start : end], ha='left', va='top')\n",
    "    ax[col].invert_yaxis()\n",
    "    ax[col].set_xlim(0, 2000)\n",
    "    yax = ax[col].get_yaxis()\n",
    "    yax.set_tick_params(pad=130)\n",
    "    \n",
    "plt.tight_layout()"
   ]
  },
  {
   "cell_type": "code",
   "execution_count": null,
   "id": "c7ab4e17",
   "metadata": {},
   "outputs": [],
   "source": []
  }
 ],
 "metadata": {
  "kernelspec": {
   "display_name": "Python 3 (ipykernel)",
   "language": "python",
   "name": "python3"
  },
  "language_info": {
   "codemirror_mode": {
    "name": "ipython",
    "version": 3
   },
   "file_extension": ".py",
   "mimetype": "text/x-python",
   "name": "python",
   "nbconvert_exporter": "python",
   "pygments_lexer": "ipython3",
   "version": "3.8.16"
  }
 },
 "nbformat": 4,
 "nbformat_minor": 5
}
